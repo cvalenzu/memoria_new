{
 "cells": [
  {
   "cell_type": "code",
   "execution_count": 1,
   "metadata": {},
   "outputs": [
    {
     "name": "stderr",
     "output_type": "stream",
     "text": [
      "Using TensorFlow backend.\n"
     ]
    }
   ],
   "source": [
    "#Imports\n",
    "import pandas as pd\n",
    "import numpy as np\n",
    "import os\n",
    "from sklearn import preprocessing\n",
    "import sklearn.model_selection as ms\n",
    "import sklearn.metrics as metrics\n",
    "\n",
    "import sys\n",
    "sys.path.append('../lib')\n",
    "from helpers import *\n",
    "import os\n",
    "\n",
    "from keras.models import Sequential\n",
    "from keras.layers import Dense\n",
    "from keras.layers import LSTM"
   ]
  },
  {
   "cell_type": "code",
   "execution_count": 21,
   "metadata": {
    "collapsed": true
   },
   "outputs": [],
   "source": [
    "dataPath = \"../data/canela.csv\"\n",
    "input_dim = 24\n",
    "output_dim = 12\n",
    "timesteps = 10\n",
    "train_perc = 0.8\n",
    "batch_size = 168\n",
    "epochs = 10\n",
    "preprocess = \"minmax\"\n",
    "stateful = False"
   ]
  },
  {
   "cell_type": "code",
   "execution_count": 10,
   "metadata": {
    "collapsed": true
   },
   "outputs": [],
   "source": [
    "def create_lstm(input_dim,output_dim,timesteps, nodes,loss='mean_squared_error',optimizer='adam',activation=\"tanh\",recurrent_activation='hard_sigmoid', batch_size = 168,stateful=False):\n",
    "    model = Sequential()\n",
    "    model.add(LSTM(nodes, input_shape=(timesteps,input_dim),activation=activation, recurrent_activation=recurrent_activation,stateful=True, batch_size=batch_size))\n",
    "    model.add(Dense(output_dim))\n",
    "    model.compile(loss=loss, optimizer=optimizer)\n",
    "    return model"
   ]
  },
  {
   "cell_type": "code",
   "execution_count": 11,
   "metadata": {},
   "outputs": [
    {
     "name": "stdout",
     "output_type": "stream",
     "text": [
      "Reading Data\n",
      "Preparing data\n"
     ]
    }
   ],
   "source": [
    "print(\"Reading Data\")\n",
    "#Data split parameters\n",
    "data = pd.Series.from_csv(dataPath)\n",
    "\n",
    "print(\"Preparing data\")\n",
    "X,y = create_data_cube(data, input_dim=input_dim,timesteps=timesteps)\n",
    "\n",
    "\n",
    "trainlen1 = int(train_perc*len(X))\n",
    "trainlen = int(train_perc*trainlen1)\n",
    "trainlen = trainlen - (trainlen%batch_size)\n",
    "vallen = trainlen1 - trainlen\n",
    "vallen = vallen - (vallen%batch_size)\n",
    "\n",
    "X_train,X_test = X[:trainlen], X[trainlen:trainlen+vallen]\n",
    "y_train,y_test = y[:trainlen], y[trainlen:trainlen+vallen]\n",
    "y_train_orig  = y_train"
   ]
  },
  {
   "cell_type": "code",
   "execution_count": 12,
   "metadata": {},
   "outputs": [
    {
     "name": "stdout",
     "output_type": "stream",
     "text": [
      "Preprocessing Data\n"
     ]
    }
   ],
   "source": [
    "print(\"Preprocessing Data\")\n",
    "\n",
    "if preprocess == \"minmax\":\n",
    "    minmax_in = preprocessing.MinMaxScaler(feature_range=(0,1))\n",
    "    minmax_out = preprocessing.MinMaxScaler(feature_range=(0,1))\n",
    "\n",
    "    minmax_in.fit(X_train[:,0,:])\n",
    "    minmax_out.fit(y_train)\n",
    "\n",
    "    preproc_in = minmax_in\n",
    "    preproc_out = minmax_out\n",
    "\n",
    "else:\n",
    "    standarization_in = preprocessing.StandardScaler()\n",
    "    standarization_out = preprocessing.StandardScaler()\n",
    "\n",
    "    standarization_in.fit(X_train[:,0,:])\n",
    "    standarization_out.fit(y_train)\n",
    "\n",
    "    preproc_in = standarization_in\n",
    "    preproc_out = standarization_out\n",
    "\n",
    "for i in range(timesteps):\n",
    "    X_train[:,i,:] = preproc_in.transform(X_train[:,i,:]) if preproc_in else X_train\n",
    "    X_test[:,i,:] = preproc_in.transform(X_test[:,i,:]) if preproc_in else X_test\n",
    "y_train = preproc_out.transform(y_train) if preproc_out else y_train\n",
    "\n"
   ]
  },
  {
   "cell_type": "code",
   "execution_count": 13,
   "metadata": {},
   "outputs": [
    {
     "name": "stdout",
     "output_type": "stream",
     "text": [
      "Creating Param List\n"
     ]
    }
   ],
   "source": [
    "print(\"Creating Param List\")\n",
    "lsm_nodes = [32]\n",
    "loss = [\"mean_squared_error\"]\n",
    "activation = [\"relu\", \"tanh\", \"sigmoid\",\"linear\"]\n",
    "recurrent_activation = [\"hard_sigmoid\",\"sigmoid\",\"relu\"]\n",
    "param_grid = {\"nodes\":lsm_nodes,\"loss\":loss, \"input_dim\":[input_dim], \"output_dim\": [12], \"timesteps\":[timesteps],\n",
    "              \"activation\":activation, \"recurrent_activation\":recurrent_activation, \"batch_size\":[batch_size]}\n",
    "params = ms.ParameterGrid(param_grid)"
   ]
  },
  {
   "cell_type": "code",
   "execution_count": 14,
   "metadata": {
    "scrolled": false
   },
   "outputs": [
    {
     "name": "stdout",
     "output_type": "stream",
     "text": [
      "Evaluating Models\n",
      "{'activation': 'relu', 'batch_size': 168, 'input_dim': 24, 'loss': 'mean_squared_error', 'nodes': 32, 'output_dim': 12, 'recurrent_activation': 'hard_sigmoid', 'timesteps': 10}\n",
      "Score Validation:  6.39059254723\n",
      "{'activation': 'relu', 'batch_size': 168, 'input_dim': 24, 'loss': 'mean_squared_error', 'nodes': 32, 'output_dim': 12, 'recurrent_activation': 'sigmoid', 'timesteps': 10}\n",
      "Score Validation:  6.39596446486\n",
      "{'activation': 'relu', 'batch_size': 168, 'input_dim': 24, 'loss': 'mean_squared_error', 'nodes': 32, 'output_dim': 12, 'recurrent_activation': 'relu', 'timesteps': 10}\n",
      "Error\n",
      "{'activation': 'tanh', 'batch_size': 168, 'input_dim': 24, 'loss': 'mean_squared_error', 'nodes': 32, 'output_dim': 12, 'recurrent_activation': 'hard_sigmoid', 'timesteps': 10}\n",
      "Score Validation:  6.28224213211\n",
      "{'activation': 'tanh', 'batch_size': 168, 'input_dim': 24, 'loss': 'mean_squared_error', 'nodes': 32, 'output_dim': 12, 'recurrent_activation': 'sigmoid', 'timesteps': 10}\n",
      "Score Validation:  6.28703521286\n",
      "{'activation': 'tanh', 'batch_size': 168, 'input_dim': 24, 'loss': 'mean_squared_error', 'nodes': 32, 'output_dim': 12, 'recurrent_activation': 'relu', 'timesteps': 10}\n",
      "Error\n",
      "{'activation': 'sigmoid', 'batch_size': 168, 'input_dim': 24, 'loss': 'mean_squared_error', 'nodes': 32, 'output_dim': 12, 'recurrent_activation': 'hard_sigmoid', 'timesteps': 10}\n",
      "Score Validation:  6.78228529206\n",
      "{'activation': 'sigmoid', 'batch_size': 168, 'input_dim': 24, 'loss': 'mean_squared_error', 'nodes': 32, 'output_dim': 12, 'recurrent_activation': 'sigmoid', 'timesteps': 10}\n",
      "Score Validation:  6.75079294384\n",
      "{'activation': 'sigmoid', 'batch_size': 168, 'input_dim': 24, 'loss': 'mean_squared_error', 'nodes': 32, 'output_dim': 12, 'recurrent_activation': 'relu', 'timesteps': 10}\n",
      "Error\n",
      "{'activation': 'linear', 'batch_size': 168, 'input_dim': 24, 'loss': 'mean_squared_error', 'nodes': 32, 'output_dim': 12, 'recurrent_activation': 'hard_sigmoid', 'timesteps': 10}\n",
      "Score Validation:  6.3111620246\n",
      "{'activation': 'linear', 'batch_size': 168, 'input_dim': 24, 'loss': 'mean_squared_error', 'nodes': 32, 'output_dim': 12, 'recurrent_activation': 'sigmoid', 'timesteps': 10}\n",
      "Score Validation:  6.35966739235\n",
      "{'activation': 'linear', 'batch_size': 168, 'input_dim': 24, 'loss': 'mean_squared_error', 'nodes': 32, 'output_dim': 12, 'recurrent_activation': 'relu', 'timesteps': 10}\n",
      "Error\n"
     ]
    },
    {
     "ename": "NameError",
     "evalue": "name 'filename' is not defined",
     "output_type": "error",
     "traceback": [
      "\u001b[0;31m---------------------------------------------------------------------------\u001b[0m",
      "\u001b[0;31mNameError\u001b[0m                                 Traceback (most recent call last)",
      "\u001b[0;32m<ipython-input-14-ad0e11d9de35>\u001b[0m in \u001b[0;36m<module>\u001b[0;34m()\u001b[0m\n\u001b[1;32m     26\u001b[0m         \u001b[0;32mcontinue\u001b[0m\u001b[0;34m\u001b[0m\u001b[0m\n\u001b[1;32m     27\u001b[0m \u001b[0mscores\u001b[0m \u001b[0;34m=\u001b[0m \u001b[0mpd\u001b[0m\u001b[0;34m.\u001b[0m\u001b[0mDataFrame\u001b[0m\u001b[0;34m(\u001b[0m\u001b[0mscores\u001b[0m\u001b[0;34m)\u001b[0m\u001b[0;34m\u001b[0m\u001b[0m\n\u001b[0;32m---> 28\u001b[0;31m \u001b[0mscores\u001b[0m\u001b[0;34m.\u001b[0m\u001b[0mto_csv\u001b[0m\u001b[0;34m(\u001b[0m\u001b[0;34m\"{}_scores_lstm_{}lags_{}outs_{}batch.csv\"\u001b[0m\u001b[0;34m.\u001b[0m\u001b[0mformat\u001b[0m\u001b[0;34m(\u001b[0m\u001b[0mfilename\u001b[0m\u001b[0;34m,\u001b[0m\u001b[0margs\u001b[0m\u001b[0;34m.\u001b[0m\u001b[0minputs\u001b[0m\u001b[0;34m,\u001b[0m \u001b[0margs\u001b[0m\u001b[0;34m.\u001b[0m\u001b[0moutputs\u001b[0m\u001b[0;34m,\u001b[0m\u001b[0margs\u001b[0m\u001b[0;34m.\u001b[0m\u001b[0mbatch\u001b[0m\u001b[0;34m)\u001b[0m\u001b[0;34m)\u001b[0m\u001b[0;34m\u001b[0m\u001b[0m\n\u001b[0m",
      "\u001b[0;31mNameError\u001b[0m: name 'filename' is not defined"
     ]
    }
   ],
   "source": [
    "print(\"Evaluating Models\")\n",
    "\n",
    "scores = []\n",
    "for param in params:\n",
    "    print(param)\n",
    "    np.random.seed(42)\n",
    "    model = create_lstm(**param)\n",
    "\n",
    "    if stateful:\n",
    "        for i in range(epochs):\n",
    "            print(\"Epoch \",i)\n",
    "            model.reset_states()\n",
    "            model.fit(X_train, y_train,shuffle=False,verbose=False, epochs=1, batch_size=batch_size)\n",
    "    else:\n",
    "        model.fit(X_train, y_train,shuffle=False,verbose=False, epochs=epochs, batch_size=batch_size)\n",
    "    try:\n",
    "        y_approx = preproc_out.inverse_transform(model.predict(X_test,batch_size=batch_size))\n",
    "\n",
    "        score = metrics.mean_squared_error(y_test,y_approx)\n",
    "\n",
    "        print(\"Score Validation: \",score)\n",
    "        param[\"score\"] = score\n",
    "        scores.append(param)\n",
    "    except:\n",
    "        print(\"Error\")\n",
    "        continue\n",
    "scores = pd.DataFrame(scores)"
   ]
  },
  {
   "cell_type": "code",
   "execution_count": 18,
   "metadata": {},
   "outputs": [],
   "source": [
    "filename = os.path.basename(dataPath).replace(\".csv\",\"\")"
   ]
  },
  {
   "cell_type": "code",
   "execution_count": 22,
   "metadata": {},
   "outputs": [],
   "source": [
    "scores.to_csv(\"{}_scores_lstm_{}lags_{}outs_{}batch.csv\".format(filename,input_dim, output_dim,batch_size))"
   ]
  },
  {
   "cell_type": "code",
   "execution_count": null,
   "metadata": {
    "collapsed": true
   },
   "outputs": [],
   "source": []
  }
 ],
 "metadata": {
  "kernelspec": {
   "display_name": "Python 3",
   "language": "python",
   "name": "python3"
  },
  "language_info": {
   "codemirror_mode": {
    "name": "ipython",
    "version": 3
   },
   "file_extension": ".py",
   "mimetype": "text/x-python",
   "name": "python",
   "nbconvert_exporter": "python",
   "pygments_lexer": "ipython3",
   "version": "3.6.3"
  }
 },
 "nbformat": 4,
 "nbformat_minor": 2
}
